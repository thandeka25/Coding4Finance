{
 "cells": [
  {
   "cell_type": "markdown",
   "metadata": {},
   "source": [
    "Print Hello World"
   ]
  },
  {
   "cell_type": "code",
   "execution_count": 1,
   "metadata": {},
   "outputs": [
    {
     "name": "stdout",
     "output_type": "stream",
     "text": [
      "Hello World\n"
     ]
    }
   ],
   "source": [
    "print(\"Hello World\") #remember to always use brackets and lowercase"
   ]
  },
  {
   "cell_type": "markdown",
   "metadata": {},
   "source": [
    "Print using a variable"
   ]
  },
  {
   "cell_type": "code",
   "execution_count": 2,
   "metadata": {},
   "outputs": [
    {
     "name": "stdout",
     "output_type": "stream",
     "text": [
      "How do you do\n"
     ]
    }
   ],
   "source": [
    "greeting = \"How do you do\"\n",
    "print(greeting) #you dont use quotation marks with a variable"
   ]
  },
  {
   "cell_type": "markdown",
   "metadata": {},
   "source": [
    "Combinining Strings"
   ]
  },
  {
   "cell_type": "code",
   "execution_count": 3,
   "metadata": {},
   "outputs": [
    {
     "name": "stdout",
     "output_type": "stream",
     "text": [
      "Ada Lovelace\n"
     ]
    }
   ],
   "source": [
    "first_name = \"Ada\"\n",
    "last_name = \"Lovelace\"\n",
    "full_name = first_name + \" \" + last_name\n",
    "print(full_name)"
   ]
  },
  {
   "cell_type": "markdown",
   "metadata": {},
   "source": [
    "Base Types"
   ]
  },
  {
   "cell_type": "code",
   "execution_count": 1,
   "metadata": {},
   "outputs": [],
   "source": [
    "dummy_integer = 783 #integer\n",
    "dummy_float =[9.25, 1.7e-6] #float e-a = 10^(-a)\n",
    "dummy_string = \"anything in quotation marks\"\n",
    "dummy_boolean = True #case sensitive"
   ]
  },
  {
   "cell_type": "markdown",
   "metadata": {},
   "source": [
    "Container Types"
   ]
  },
  {
   "cell_type": "code",
   "execution_count": 2,
   "metadata": {},
   "outputs": [],
   "source": [
    "dummy_list = [1, 2, 3, 5, 7, 11] #ordered sequence\n",
    "dummy_tuple = (1, 2, 3, 5,9, 11, 13) #ordered sequence, non-mdifiable values. The contents of a tuple cant be changed\n",
    "dummy_dictionary = {\"key\": \"value\", 1: \"one\", 3.142: \"pi\"} #key/value association, each key is unique\n",
    "dummy_set = {\"key 1\", \"this\", \"that\", 42, 2.23, 1.5e10, \"fifty\"}"
   ]
  },
  {
   "cell_type": "markdown",
   "metadata": {},
   "source": [
    "Variable assignments"
   ]
  },
  {
   "cell_type": "code",
   "execution_count": 5,
   "metadata": {},
   "outputs": [],
   "source": [
    "x = 1 + 2.3 #variable = value\n",
    "q=w=e= 2 #assigning all variables with the same value\n",
    "y,u,i = 2,4.56,7.3 #multiple assignments three variables to three values\n",
    "y,u = u,y #value swap\n",
    "x +=3 #increments, same as x = x+3\n",
    "q -=1 #same as q = q-1\n",
    "del w #remove name w\n"
   ]
  },
  {
   "cell_type": "markdown",
   "metadata": {},
   "source": [
    "Line 1: Make a list\n",
    "Line 2: get first item in list\n"
   ]
  },
  {
   "cell_type": "code",
   "execution_count": 4,
   "metadata": {},
   "outputs": [
    {
     "data": {
      "text/plain": [
       "'Katherine Johnson'"
      ]
     },
     "execution_count": 4,
     "metadata": {},
     "output_type": "execute_result"
    }
   ],
   "source": [
    "scientists = [\"Marie Curie\", \"Rachel Carson\", \"Mae Jemison\", \"Katherine Johnson\"]\n",
    "scientists[0]\n"
   ]
  },
  {
   "cell_type": "markdown",
   "metadata": {},
   "source": [
    "get last item in list"
   ]
  },
  {
   "cell_type": "code",
   "execution_count": 5,
   "metadata": {},
   "outputs": [
    {
     "data": {
      "text/plain": [
       "'Katherine Johnson'"
      ]
     },
     "execution_count": 5,
     "metadata": {},
     "output_type": "execute_result"
    }
   ],
   "source": [
    "scientists[-1]"
   ]
  },
  {
   "cell_type": "markdown",
   "metadata": {},
   "source": [
    "Adding items to list"
   ]
  },
  {
   "cell_type": "code",
   "execution_count": 6,
   "metadata": {},
   "outputs": [
    {
     "name": "stdout",
     "output_type": "stream",
     "text": [
      "['Marie Curie', 'Rachel Carson', 'Mae Jemison', 'Katherine Johnson', 'Albert Einstein']\n"
     ]
    }
   ],
   "source": [
    "scientists.append(\"Albert Einstein\")\n",
    "print(scientists)"
   ]
  },
  {
   "cell_type": "markdown",
   "metadata": {},
   "source": [
    "Creating numerical lists"
   ]
  },
  {
   "cell_type": "code",
   "execution_count": 9,
   "metadata": {},
   "outputs": [
    {
     "name": "stdout",
     "output_type": "stream",
     "text": [
      "[6, 7, 8, 9, 10, 11, 12, 13, 14, 15]\n"
     ]
    }
   ],
   "source": [
    "numList = []\n",
    "for x in range(1,11):   #specify range or values to be loop through\n",
    "    x +=5     #carry out the function x = x+5\n",
    "    numList.append(x)  #add the value of x for each repetition to the list\n",
    "print(numList)    #goes from 1 to 10 therefore the last number is not included"
   ]
  },
  {
   "cell_type": "markdown",
   "metadata": {},
   "source": [
    "Creating numerical lists in one line"
   ]
  },
  {
   "cell_type": "code",
   "execution_count": 12,
   "metadata": {},
   "outputs": [
    {
     "name": "stdout",
     "output_type": "stream",
     "text": [
      "[6, 7, 8, 9, 10, 11, 12, 13, 14, 15]\n"
     ]
    }
   ],
   "source": [
    "theList = [x+5 for x in range(1,11)]   #dont put in an argument but the function itself, you must not have an \"=\"\n",
    "print(theList)"
   ]
  },
  {
   "cell_type": "markdown",
   "metadata": {},
   "source": [
    "Slicing the list"
   ]
  },
  {
   "cell_type": "code",
   "execution_count": 13,
   "metadata": {},
   "outputs": [
    {
     "name": "stdout",
     "output_type": "stream",
     "text": [
      "['Marie Curie', 'Rachel Carson']\n"
     ]
    }
   ],
   "source": [
    "firstTwo = scientists[:2]\n",
    "print(firstTwo)"
   ]
  },
  {
   "cell_type": "markdown",
   "metadata": {},
   "source": [
    "copying a list"
   ]
  },
  {
   "cell_type": "code",
   "execution_count": 14,
   "metadata": {},
   "outputs": [
    {
     "name": "stdout",
     "output_type": "stream",
     "text": [
      "['Marie Curie', 'Rachel Carson', 'Mae Jemison', 'Katherine Johnson', 'Albert Einstein']\n"
     ]
    }
   ],
   "source": [
    "copyOfScientists = scientists[:]\n",
    "print(copyOfScientists)"
   ]
  },
  {
   "cell_type": "markdown",
   "metadata": {},
   "source": [
    "###If statements\n",
    "equals  x==25\n",
    "not equal x!=25\n",
    "greater than x>25\n",
    "greater than  or equal to  x>=25\n",
    "less than x<25\n",
    "less than or equal to x<=25"
   ]
  },
  {
   "cell_type": "markdown",
   "metadata": {},
   "source": [
    "###Conditional tests with lists\n",
    "\"Marie Curie\" in scientists\n",
    "\"Albert Einstein\" not in scientists"
   ]
  },
  {
   "cell_type": "markdown",
   "metadata": {},
   "source": [
    "Assigning boolean values"
   ]
  },
  {
   "cell_type": "code",
   "execution_count": null,
   "metadata": {},
   "outputs": [],
   "source": [
    "green_light = True\n",
    "red_light = False"
   ]
  },
  {
   "cell_type": "markdown",
   "metadata": {},
   "source": [
    "Simple if statement"
   ]
  },
  {
   "cell_type": "code",
   "execution_count": 15,
   "metadata": {},
   "outputs": [
    {
     "name": "stdout",
     "output_type": "stream",
     "text": [
      "You are old enough to vote\n"
     ]
    }
   ],
   "source": [
    "age = 21\n",
    "if age  > 18:\n",
    "    print(\"You are old enough to vote\")"
   ]
  },
  {
   "cell_type": "markdown",
   "metadata": {},
   "source": [
    "if-elif-else statement\n",
    "change the status to see different course_fees"
   ]
  },
  {
   "cell_type": "code",
   "execution_count": 18,
   "metadata": {},
   "outputs": [
    {
     "name": "stdout",
     "output_type": "stream",
     "text": [
      "150\n"
     ]
    }
   ],
   "source": [
    "status = \"staff\"\n",
    "if status == \"student\":\n",
    "    course_fee = 100\n",
    "elif status == \"staff\":\n",
    "    course_fee = 150\n",
    "else:\n",
    "    course_fee = 200\n",
    "print(course_fee)"
   ]
  },
  {
   "cell_type": "markdown",
   "metadata": {},
   "source": [
    "Accessing a value in a dictionary\n",
    "note that you can't concantenate integers, you have to convert it into a string first"
   ]
  },
  {
   "cell_type": "code",
   "execution_count": 28,
   "metadata": {},
   "outputs": [
    {
     "name": "stdout",
     "output_type": "stream",
     "text": [
      "the dog has gold fur\n"
     ]
    }
   ],
   "source": [
    "dog = {'fur': \"gold\", \"breed\": \"husky\"}\n",
    "print(\"the dog has \" + dog['fur'] + \" fur\" )"
   ]
  },
  {
   "cell_type": "markdown",
   "metadata": {},
   "source": [
    "adding a new key:value pair\n",
    "dictName[key] = value"
   ]
  },
  {
   "cell_type": "code",
   "execution_count": 29,
   "metadata": {},
   "outputs": [
    {
     "name": "stdout",
     "output_type": "stream",
     "text": [
      "{'fur': 'gold', 'breed': 'husky', 'age': 4}\n"
     ]
    }
   ],
   "source": [
    "dog['age'] = 4\n",
    "print(dog)"
   ]
  },
  {
   "cell_type": "markdown",
   "metadata": {},
   "source": [
    "loop through key: value pairs"
   ]
  },
  {
   "cell_type": "code",
   "execution_count": 30,
   "metadata": {},
   "outputs": [
    {
     "name": "stdout",
     "output_type": "stream",
     "text": [
      "The fur is gold\n",
      "The breed is husky\n",
      "The age is 4\n"
     ]
    }
   ],
   "source": [
    "for key, value in dog.items():\n",
    "    print(\"The \" + key + \" is \" + str(value))  #str ensures all values are strings"
   ]
  },
  {
   "cell_type": "markdown",
   "metadata": {},
   "source": [
    "Looping through all the values in a dictionary"
   ]
  },
  {
   "cell_type": "code",
   "execution_count": 33,
   "metadata": {},
   "outputs": [
    {
     "name": "stdout",
     "output_type": "stream",
     "text": [
      "gold is a characteristic\n",
      "husky is a characteristic\n",
      "4 is a characteristic\n"
     ]
    }
   ],
   "source": [
    "for trait in dog.values():\n",
    "    print(str(trait) + \" is a characteristic\")"
   ]
  },
  {
   "cell_type": "markdown",
   "metadata": {},
   "source": [
    "While Loop: repeats a set of code as long as a condition is true"
   ]
  },
  {
   "cell_type": "code",
   "execution_count": 34,
   "metadata": {},
   "outputs": [
    {
     "name": "stdout",
     "output_type": "stream",
     "text": [
      "5\n",
      "10\n",
      "15\n",
      "20\n",
      "25\n",
      "30\n"
     ]
    }
   ],
   "source": [
    "current = 5\n",
    "while current <= 30:\n",
    "    print(current)\n",
    "    current +=5"
   ]
  },
  {
   "cell_type": "code",
   "execution_count": null,
   "metadata": {},
   "outputs": [],
   "source": []
  }
 ],
 "metadata": {
  "kernelspec": {
   "display_name": "Python 3",
   "language": "python",
   "name": "python3"
  },
  "language_info": {
   "codemirror_mode": {
    "name": "ipython",
    "version": 3
   },
   "file_extension": ".py",
   "mimetype": "text/x-python",
   "name": "python",
   "nbconvert_exporter": "python",
   "pygments_lexer": "ipython3",
   "version": "3.7.3"
  }
 },
 "nbformat": 4,
 "nbformat_minor": 2
}
